{
  "nbformat": 4,
  "nbformat_minor": 0,
  "metadata": {
    "colab": {
      "name": "Untitled0.ipynb",
      "private_outputs": true,
      "provenance": [],
      "toc_visible": true,
      "authorship_tag": "ABX9TyNnz39kiWa1XxIRWlyTo2VH",
      "include_colab_link": true
    },
    "kernelspec": {
      "name": "python3",
      "display_name": "Python 3"
    },
    "language_info": {
      "name": "python"
    }
  },
  "cells": [
    {
      "cell_type": "markdown",
      "metadata": {
        "id": "view-in-github",
        "colab_type": "text"
      },
      "source": [
        "<a href=\"https://colab.research.google.com/github/Minwoohh/DALC_Scala/blob/main/Pandas%EA%B8%B0%EC%B4%88%20%EB%B0%8F%20%EC%8B%A4%EC%8A%B5%20.ipynb\" target=\"_parent\"><img src=\"https://colab.research.google.com/assets/colab-badge.svg\" alt=\"Open In Colab\"/></a>"
      ]
    },
    {
      "cell_type": "markdown",
      "metadata": {
        "id": "Syrhws_EXqJl"
      },
      "source": [
        "# **Pandas**\n",
        ": 서로 다른 형태와 속성을 가진 여러 종류의 데이터를 공통형식으로 정리 한 것"
      ]
    },
    {
      "cell_type": "markdown",
      "metadata": {
        "id": "WUO8-sUqX_GB"
      },
      "source": [
        "# **1차원 배열 : series ,  2차원 배열 : DataFrame 을 제공**\n",
        "\n",
        "\n",
        "1.   Series : 인덱스(주소) : deta 값 = 1 : 1 형식\n",
        "2.   DataFrame : 행과 열로 구조 즉, 여러개의 series 가 모인 것이다.\n",
        "\n"
      ]
    },
    {
      "cell_type": "markdown",
      "metadata": {
        "id": "OkEU4BD6Yqqs"
      },
      "source": [
        ""
      ]
    },
    {
      "cell_type": "markdown",
      "metadata": {
        "id": "ilaqYMuBYqsN"
      },
      "source": [
        "# **사용방법**\n",
        "\n",
        "1. Colab에서 pandas 임포트\n",
        "*  pandas를 사용하기 위해서 numpy도 import 해야한다.\n",
        "\n"
      ]
    },
    {
      "cell_type": "code",
      "metadata": {
        "id": "NEO09-EuZELB"
      },
      "source": [
        "import numpy as np\n",
        "import pandas as pd"
      ],
      "execution_count": null,
      "outputs": []
    },
    {
      "cell_type": "markdown",
      "metadata": {
        "id": "SXX8wEStZL6p"
      },
      "source": [
        "2. Series\n",
        "\n",
        " : 리스트를 인자로 사용 = Seires 객체 만들기\n",
        "\n",
        "\n",
        "\n"
      ]
    },
    {
      "cell_type": "code",
      "metadata": {
        "id": "3UfVEz8raUSp"
      },
      "source": [
        "data = pd.Series() //꼴\n",
        "data.values //변수의 values 값을 확인할 수 있다.\n",
        "data.index //변수의 index 값을 확인할 수 있다."
      ],
      "execution_count": null,
      "outputs": []
    },
    {
      "cell_type": "markdown",
      "metadata": {
        "id": "tndNeNW4a1yj"
      },
      "source": [
        "3. 대괄호 표기법 사용"
      ]
    },
    {
      "cell_type": "code",
      "metadata": {
        "id": "kXSntwU6a7g5"
      },
      "source": [
        "data []"
      ],
      "execution_count": null,
      "outputs": []
    },
    {
      "cell_type": "markdown",
      "metadata": {
        "id": "0gNQMATebATG"
      },
      "source": [
        "4. Index\n",
        "\n",
        "  1. 정수일 필요가 없다\n",
        " 2. 원하는 인덱스를 정의 가능 (문자열도 가능하다)\n",
        " 3. 연속적이지 않은 수 설정도 가능\n",
        "\n",
        "\n"
      ]
    },
    {
      "cell_type": "code",
      "metadata": {
        "id": "e1u99a0NbTlj"
      },
      "source": [
        "data = pd.Series([       ], index = [       ]) //형태"
      ],
      "execution_count": null,
      "outputs": []
    },
    {
      "cell_type": "markdown",
      "metadata": {
        "id": "r5asJXK0bxFa"
      },
      "source": [
        "5. 딕셔너리 구조\n",
        "\n",
        " 1. 값에 키를 매핑하는것\n",
        " 2. 타입이 지정된 키 ----- 타입이 지정된 값에 매핑한다.\n",
        "   // 딕셔너리(k:v) \n",
        "\n"
      ]
    },
    {
      "cell_type": "markdown",
      "metadata": {
        "id": "ZN3kcbwwcPjh"
      },
      "source": [
        "6. 딕셔너리로부터 series 만들기"
      ]
    },
    {
      "cell_type": "code",
      "metadata": {
        "id": "WMWt6BIdcUVQ"
      },
      "source": [
        "data이름_dict = { k0:v0, k1:v1, k2:v2 } //딕셔너리를 정의\n",
        "data이름 = pd.series(data이름)\n",
        "data이름"
      ],
      "execution_count": null,
      "outputs": []
    },
    {
      "cell_type": "markdown",
      "metadata": {
        "id": "L0q8m_XDcwUE"
      },
      "source": [
        "7. 키를 이용하여 매칭되는 값 불러오기"
      ]
    },
    {
      "cell_type": "code",
      "metadata": {
        "id": "T3RQArTbdC-L"
      },
      "source": [
        "data이름[k0]\n",
        "// k0에 매칭하는 v0값이 나온다"
      ],
      "execution_count": null,
      "outputs": []
    },
    {
      "cell_type": "markdown",
      "metadata": {
        "id": "JXW4gIS6dS-G"
      },
      "source": [
        "8. 슬라이싱 형태로 시리즈 내의 데이터 일부 가져오기"
      ]
    },
    {
      "cell_type": "code",
      "metadata": {
        "id": "xf5I9ChWdaY6"
      },
      "source": [
        "data이름[k0 : k2]\n",
        "// k0로 부터 k2까지의 데이터를 가져온다."
      ],
      "execution_count": null,
      "outputs": []
    },
    {
      "cell_type": "markdown",
      "metadata": {
        "id": "WrnK3I-IduXf"
      },
      "source": [
        "9. 객체 구성하기"
      ]
    },
    {
      "cell_type": "code",
      "metadata": {
        "id": "1NcFUZUzdyPi"
      },
      "source": [
        "pd.series(data,index=index)\n",
        "//index는 생략이 가능하고, 0부터 연속된 정수로 할당된다."
      ],
      "execution_count": null,
      "outputs": []
    },
    {
      "cell_type": "markdown",
      "metadata": {
        "id": "jlIbCWNWeCi2"
      },
      "source": [
        "10. 딕셔너리 >> 시리즈 객체"
      ]
    },
    {
      "cell_type": "code",
      "metadata": {
        "id": "T6opdZJ6eLQ9"
      },
      "source": [
        "dict_data = {      }\n",
        "dict_data\n",
        "// 키값을 기반으로 오름차순으로 정열된다."
      ],
      "execution_count": null,
      "outputs": []
    },
    {
      "cell_type": "markdown",
      "metadata": {
        "id": "Lp79FKa3ecje"
      },
      "source": [
        "# **DataFrame**\n",
        "\n",
        "\n",
        " \n",
        "\n",
        "\n"
      ]
    },
    {
      "cell_type": "code",
      "metadata": {
        "id": "FHeXlK0_eowu"
      },
      "source": [
        "추가할data_dict = {     }\n",
        "추가할data = pd.series(추가data_dict)\n",
        "추가할data"
      ],
      "execution_count": null,
      "outputs": []
    },
    {
      "cell_type": "code",
      "metadata": {
        "id": "Uw5d8BhWe7yv"
      },
      "source": [
        "states = pd.DataFrame({'k': k , 'v':v})\n",
        "states //엑셀처럼 표가 나온다."
      ],
      "execution_count": null,
      "outputs": []
    }
  ]
}